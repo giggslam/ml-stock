{
 "cells": [
  {
   "cell_type": "code",
   "execution_count": 75,
   "metadata": {},
   "outputs": [],
   "source": [
    "import pandas as pd\n",
    "from preprocessing_stock import Stock_Preprocessing\n",
    "from calculation import CalcIntersection"
   ]
  },
  {
   "cell_type": "code",
   "execution_count": 84,
   "metadata": {},
   "outputs": [
    {
     "name": "stderr",
     "output_type": "stream",
     "text": [
      "2020-05-26 09:46:23.990 INFO:\tInit class Stock_Preprocessing ...\n",
      "2020-05-26 09:46:23.992 INFO:\t... Init class Stock_Preprocessing done\n",
      "2020-05-26 09:46:23.993 INFO:\tload_data(stock_ids=['NVDA']) ...\n",
      "2020-05-26 09:46:23.994 INFO:\tdownload_stock_data(stock_ids=['NVDA']) ...\n",
      "2020-05-26 09:46:24.022 DEBUG:\tStarting new HTTPS connection (1): query1.finance.yahoo.com:443\n",
      "2020-05-26 09:46:24.162 DEBUG:\thttps://query1.finance.yahoo.com:443 \"GET /v8/finance/chart/NVDA?period1=-2208988800&period2=1590457584&interval=1d&includePrePost=False&events=div%2Csplits HTTP/1.1\" 200 None\n"
     ]
    },
    {
     "name": "stdout",
     "output_type": "stream",
     "text": [
      "\r",
      "[*********************100%***********************]  1 of 1 completed"
     ]
    },
    {
     "name": "stderr",
     "output_type": "stream",
     "text": [
      "2020-05-26 09:46:24.316 INFO:\t... download_stock_data()\n",
      "2020-05-26 09:46:24.317 INFO:\t... load_data()\n",
      "2020-05-26 09:46:24.319 INFO:\tsave_dataframe_to_file(), DataFrame will be saved in data/NVDA.csv ...\n",
      "2020-05-26 09:46:24.395 INFO:\t... save_dataframe_to_file()\n"
     ]
    },
    {
     "name": "stdout",
     "output_type": "stream",
     "text": [
      "\n"
     ]
    }
   ],
   "source": [
    "stock_id = 'NVDA'\n",
    "\n",
    "stock_processor = Stock_Preprocessing()\n",
    "calc = CalcIntersection()\n",
    "\n",
    "# load data from Yahoo\n",
    "data = stock_processor.load_data([stock_id])\n",
    "# Save data to csv\n",
    "stock_processor.save_dataframe_to_file(data=data, file_path=f'data/{stock_id}.csv')\n"
   ]
  },
  {
   "cell_type": "code",
   "execution_count": 85,
   "metadata": {},
   "outputs": [
    {
     "data": {
      "text/html": [
       "<div>\n",
       "<style scoped>\n",
       "    .dataframe tbody tr th:only-of-type {\n",
       "        vertical-align: middle;\n",
       "    }\n",
       "\n",
       "    .dataframe tbody tr th {\n",
       "        vertical-align: top;\n",
       "    }\n",
       "\n",
       "    .dataframe thead th {\n",
       "        text-align: right;\n",
       "    }\n",
       "</style>\n",
       "<table border=\"1\" class=\"dataframe\">\n",
       "  <thead>\n",
       "    <tr style=\"text-align: right;\">\n",
       "      <th></th>\n",
       "      <th>Open</th>\n",
       "      <th>High</th>\n",
       "      <th>Low</th>\n",
       "      <th>Close</th>\n",
       "      <th>Adj Close</th>\n",
       "      <th>Volume</th>\n",
       "    </tr>\n",
       "    <tr>\n",
       "      <th>Date</th>\n",
       "      <th></th>\n",
       "      <th></th>\n",
       "      <th></th>\n",
       "      <th></th>\n",
       "      <th></th>\n",
       "      <th></th>\n",
       "    </tr>\n",
       "  </thead>\n",
       "  <tbody>\n",
       "    <tr>\n",
       "      <th>2020-05-18</th>\n",
       "      <td>350.420013</td>\n",
       "      <td>356.660004</td>\n",
       "      <td>347.220001</td>\n",
       "      <td>350.010010</td>\n",
       "      <td>350.010010</td>\n",
       "      <td>19410100.0</td>\n",
       "    </tr>\n",
       "    <tr>\n",
       "      <th>2020-05-19</th>\n",
       "      <td>351.609985</td>\n",
       "      <td>363.500000</td>\n",
       "      <td>350.510010</td>\n",
       "      <td>352.220001</td>\n",
       "      <td>352.220001</td>\n",
       "      <td>17933000.0</td>\n",
       "    </tr>\n",
       "    <tr>\n",
       "      <th>2020-05-20</th>\n",
       "      <td>359.640015</td>\n",
       "      <td>361.720001</td>\n",
       "      <td>355.549988</td>\n",
       "      <td>358.799988</td>\n",
       "      <td>358.799988</td>\n",
       "      <td>14688400.0</td>\n",
       "    </tr>\n",
       "    <tr>\n",
       "      <th>2020-05-21</th>\n",
       "      <td>362.059998</td>\n",
       "      <td>362.100006</td>\n",
       "      <td>349.500000</td>\n",
       "      <td>351.010010</td>\n",
       "      <td>351.010010</td>\n",
       "      <td>19026700.0</td>\n",
       "    </tr>\n",
       "    <tr>\n",
       "      <th>2020-05-22</th>\n",
       "      <td>353.010010</td>\n",
       "      <td>363.720001</td>\n",
       "      <td>348.529999</td>\n",
       "      <td>361.049988</td>\n",
       "      <td>361.049988</td>\n",
       "      <td>25969100.0</td>\n",
       "    </tr>\n",
       "  </tbody>\n",
       "</table>\n",
       "</div>"
      ],
      "text/plain": [
       "                  Open  ...      Volume\n",
       "Date                    ...            \n",
       "2020-05-18  350.420013  ...  19410100.0\n",
       "2020-05-19  351.609985  ...  17933000.0\n",
       "2020-05-20  359.640015  ...  14688400.0\n",
       "2020-05-21  362.059998  ...  19026700.0\n",
       "2020-05-22  353.010010  ...  25969100.0\n",
       "\n",
       "[5 rows x 6 columns]"
      ]
     },
     "execution_count": 85,
     "metadata": {},
     "output_type": "execute_result"
    }
   ],
   "source": [
    "data.tail()"
   ]
  },
  {
   "cell_type": "code",
   "execution_count": 41,
   "metadata": {},
   "outputs": [],
   "source": [
    "# Calculate MAs (e.g. MA3, MA5, MA10 ...)\n",
    "days = [3, 5, 10, 20, 50, 100]\n",
    "mas = stock_processor.calculate_mas(data=data['Close'], days=days, return_type='list')"
   ]
  },
  {
   "cell_type": "code",
   "execution_count": 42,
   "metadata": {},
   "outputs": [
    {
     "data": {
      "text/plain": [
       "list"
      ]
     },
     "execution_count": 42,
     "metadata": {},
     "output_type": "execute_result"
    }
   ],
   "source": [
    "type(mas)"
   ]
  },
  {
   "cell_type": "code",
   "execution_count": 44,
   "metadata": {},
   "outputs": [
    {
     "data": {
      "text/plain": [
       "6"
      ]
     },
     "execution_count": 44,
     "metadata": {},
     "output_type": "execute_result"
    }
   ],
   "source": [
    "len(mas)"
   ]
  },
  {
   "cell_type": "code",
   "execution_count": 45,
   "metadata": {},
   "outputs": [
    {
     "data": {
      "text/plain": [
       "pandas.core.series.Series"
      ]
     },
     "execution_count": 45,
     "metadata": {},
     "output_type": "execute_result"
    }
   ],
   "source": [
    "type(mas[0])"
   ]
  },
  {
   "cell_type": "code",
   "execution_count": 46,
   "metadata": {},
   "outputs": [
    {
     "data": {
      "text/plain": [
       "Date\n",
       "2020-05-18    336.953339\n",
       "2020-05-19    347.286672\n",
       "2020-05-20    353.676666\n",
       "2020-05-21    354.010000\n",
       "2020-05-22    356.953328\n",
       "Name: Close, dtype: float64"
      ]
     },
     "execution_count": 46,
     "metadata": {},
     "output_type": "execute_result"
    }
   ],
   "source": [
    "mas[0].tail()"
   ]
  },
  {
   "cell_type": "code",
   "execution_count": 47,
   "metadata": {},
   "outputs": [],
   "source": [
    "data['ma3'] = mas[0]"
   ]
  },
  {
   "cell_type": "code",
   "execution_count": 49,
   "metadata": {},
   "outputs": [
    {
     "data": {
      "text/html": [
       "<div>\n",
       "<style scoped>\n",
       "    .dataframe tbody tr th:only-of-type {\n",
       "        vertical-align: middle;\n",
       "    }\n",
       "\n",
       "    .dataframe tbody tr th {\n",
       "        vertical-align: top;\n",
       "    }\n",
       "\n",
       "    .dataframe thead th {\n",
       "        text-align: right;\n",
       "    }\n",
       "</style>\n",
       "<table border=\"1\" class=\"dataframe\">\n",
       "  <thead>\n",
       "    <tr style=\"text-align: right;\">\n",
       "      <th></th>\n",
       "      <th>Open</th>\n",
       "      <th>High</th>\n",
       "      <th>Low</th>\n",
       "      <th>Close</th>\n",
       "      <th>Adj Close</th>\n",
       "      <th>Volume</th>\n",
       "      <th>ma3</th>\n",
       "    </tr>\n",
       "    <tr>\n",
       "      <th>Date</th>\n",
       "      <th></th>\n",
       "      <th></th>\n",
       "      <th></th>\n",
       "      <th></th>\n",
       "      <th></th>\n",
       "      <th></th>\n",
       "      <th></th>\n",
       "    </tr>\n",
       "  </thead>\n",
       "  <tbody>\n",
       "    <tr>\n",
       "      <th>2020-05-18</th>\n",
       "      <td>350.420013</td>\n",
       "      <td>356.660004</td>\n",
       "      <td>347.220001</td>\n",
       "      <td>350.010010</td>\n",
       "      <td>350.010010</td>\n",
       "      <td>19410100.0</td>\n",
       "      <td>336.953339</td>\n",
       "    </tr>\n",
       "    <tr>\n",
       "      <th>2020-05-19</th>\n",
       "      <td>351.609985</td>\n",
       "      <td>363.500000</td>\n",
       "      <td>350.510010</td>\n",
       "      <td>352.220001</td>\n",
       "      <td>352.220001</td>\n",
       "      <td>17933000.0</td>\n",
       "      <td>347.286672</td>\n",
       "    </tr>\n",
       "    <tr>\n",
       "      <th>2020-05-20</th>\n",
       "      <td>359.640015</td>\n",
       "      <td>361.720001</td>\n",
       "      <td>355.549988</td>\n",
       "      <td>358.799988</td>\n",
       "      <td>358.799988</td>\n",
       "      <td>14688400.0</td>\n",
       "      <td>353.676666</td>\n",
       "    </tr>\n",
       "    <tr>\n",
       "      <th>2020-05-21</th>\n",
       "      <td>362.059998</td>\n",
       "      <td>362.100006</td>\n",
       "      <td>349.500000</td>\n",
       "      <td>351.010010</td>\n",
       "      <td>351.010010</td>\n",
       "      <td>19026700.0</td>\n",
       "      <td>354.010000</td>\n",
       "    </tr>\n",
       "    <tr>\n",
       "      <th>2020-05-22</th>\n",
       "      <td>353.010010</td>\n",
       "      <td>363.720001</td>\n",
       "      <td>348.529999</td>\n",
       "      <td>361.049988</td>\n",
       "      <td>361.049988</td>\n",
       "      <td>25951100.0</td>\n",
       "      <td>356.953328</td>\n",
       "    </tr>\n",
       "  </tbody>\n",
       "</table>\n",
       "</div>"
      ],
      "text/plain": [
       "                  Open  ...         ma3\n",
       "Date                    ...            \n",
       "2020-05-18  350.420013  ...  336.953339\n",
       "2020-05-19  351.609985  ...  347.286672\n",
       "2020-05-20  359.640015  ...  353.676666\n",
       "2020-05-21  362.059998  ...  354.010000\n",
       "2020-05-22  353.010010  ...  356.953328\n",
       "\n",
       "[5 rows x 7 columns]"
      ]
     },
     "execution_count": 49,
     "metadata": {},
     "output_type": "execute_result"
    }
   ],
   "source": [
    "data.tail()"
   ]
  },
  {
   "cell_type": "code",
   "execution_count": 78,
   "metadata": {},
   "outputs": [],
   "source": [
    "# Calculate MAs (e.g. MA3, MA5, MA10 ...)\n",
    "days = [3, 5, 10, 20, 50, 100]\n",
    "mas = stock_processor.calculate_mas(data=data['Close'], days=days, return_type='dict')"
   ]
  },
  {
   "cell_type": "code",
   "execution_count": 79,
   "metadata": {},
   "outputs": [],
   "source": [
    "# for k in mas:\n",
    "    \n",
    "data[f'ma{k}'] = mas[k]"
   ]
  },
  {
   "cell_type": "code",
   "execution_count": 80,
   "metadata": {},
   "outputs": [
    {
     "data": {
      "text/html": [
       "<div>\n",
       "<style scoped>\n",
       "    .dataframe tbody tr th:only-of-type {\n",
       "        vertical-align: middle;\n",
       "    }\n",
       "\n",
       "    .dataframe tbody tr th {\n",
       "        vertical-align: top;\n",
       "    }\n",
       "\n",
       "    .dataframe thead th {\n",
       "        text-align: right;\n",
       "    }\n",
       "</style>\n",
       "<table border=\"1\" class=\"dataframe\">\n",
       "  <thead>\n",
       "    <tr style=\"text-align: right;\">\n",
       "      <th></th>\n",
       "      <th>Open</th>\n",
       "      <th>High</th>\n",
       "      <th>Low</th>\n",
       "      <th>Close</th>\n",
       "      <th>Adj Close</th>\n",
       "      <th>Volume</th>\n",
       "      <th>ma100</th>\n",
       "    </tr>\n",
       "    <tr>\n",
       "      <th>Date</th>\n",
       "      <th></th>\n",
       "      <th></th>\n",
       "      <th></th>\n",
       "      <th></th>\n",
       "      <th></th>\n",
       "      <th></th>\n",
       "      <th></th>\n",
       "    </tr>\n",
       "  </thead>\n",
       "  <tbody>\n",
       "    <tr>\n",
       "      <th>2020-05-18</th>\n",
       "      <td>350.420013</td>\n",
       "      <td>356.660004</td>\n",
       "      <td>347.220001</td>\n",
       "      <td>350.010010</td>\n",
       "      <td>350.010010</td>\n",
       "      <td>19410100.0</td>\n",
       "      <td>263.859301</td>\n",
       "    </tr>\n",
       "    <tr>\n",
       "      <th>2020-05-19</th>\n",
       "      <td>351.609985</td>\n",
       "      <td>363.500000</td>\n",
       "      <td>350.510010</td>\n",
       "      <td>352.220001</td>\n",
       "      <td>352.220001</td>\n",
       "      <td>17933000.0</td>\n",
       "      <td>264.995301</td>\n",
       "    </tr>\n",
       "    <tr>\n",
       "      <th>2020-05-20</th>\n",
       "      <td>359.640015</td>\n",
       "      <td>361.720001</td>\n",
       "      <td>355.549988</td>\n",
       "      <td>358.799988</td>\n",
       "      <td>358.799988</td>\n",
       "      <td>14688400.0</td>\n",
       "      <td>266.191401</td>\n",
       "    </tr>\n",
       "    <tr>\n",
       "      <th>2020-05-21</th>\n",
       "      <td>362.059998</td>\n",
       "      <td>362.100006</td>\n",
       "      <td>349.500000</td>\n",
       "      <td>351.010010</td>\n",
       "      <td>351.010010</td>\n",
       "      <td>19026700.0</td>\n",
       "      <td>267.332801</td>\n",
       "    </tr>\n",
       "    <tr>\n",
       "      <th>2020-05-22</th>\n",
       "      <td>353.010010</td>\n",
       "      <td>363.720001</td>\n",
       "      <td>348.529999</td>\n",
       "      <td>361.049988</td>\n",
       "      <td>361.049988</td>\n",
       "      <td>25969100.0</td>\n",
       "      <td>268.620101</td>\n",
       "    </tr>\n",
       "  </tbody>\n",
       "</table>\n",
       "</div>"
      ],
      "text/plain": [
       "                  Open  ...       ma100\n",
       "Date                    ...            \n",
       "2020-05-18  350.420013  ...  263.859301\n",
       "2020-05-19  351.609985  ...  264.995301\n",
       "2020-05-20  359.640015  ...  266.191401\n",
       "2020-05-21  362.059998  ...  267.332801\n",
       "2020-05-22  353.010010  ...  268.620101\n",
       "\n",
       "[5 rows x 7 columns]"
      ]
     },
     "execution_count": 80,
     "metadata": {},
     "output_type": "execute_result"
    }
   ],
   "source": [
    "data.tail()"
   ]
  },
  {
   "cell_type": "code",
   "execution_count": 81,
   "metadata": {},
   "outputs": [],
   "source": [
    "def merge_mas_into_data(mas:'dict[pd.DataFrame]', data=pd.DataFrame):\n",
    "    ''' merge calculated mas (list of df) into data (df)\n",
    "        params: (list)(DataFrame) @mas\n",
    "        return: (DataFrame) merged stock data\n",
    "    '''\n",
    "    for day in mas:\n",
    "        data[f'ma{day}'] = mas[day]\n",
    "        \n",
    "    return data"
   ]
  },
  {
   "cell_type": "code",
   "execution_count": 82,
   "metadata": {},
   "outputs": [],
   "source": [
    "new_data = merge_mas_into_data(mas=mas, data=data)"
   ]
  },
  {
   "cell_type": "code",
   "execution_count": 83,
   "metadata": {},
   "outputs": [
    {
     "data": {
      "text/html": [
       "<div>\n",
       "<style scoped>\n",
       "    .dataframe tbody tr th:only-of-type {\n",
       "        vertical-align: middle;\n",
       "    }\n",
       "\n",
       "    .dataframe tbody tr th {\n",
       "        vertical-align: top;\n",
       "    }\n",
       "\n",
       "    .dataframe thead th {\n",
       "        text-align: right;\n",
       "    }\n",
       "</style>\n",
       "<table border=\"1\" class=\"dataframe\">\n",
       "  <thead>\n",
       "    <tr style=\"text-align: right;\">\n",
       "      <th></th>\n",
       "      <th>Open</th>\n",
       "      <th>High</th>\n",
       "      <th>Low</th>\n",
       "      <th>Close</th>\n",
       "      <th>Adj Close</th>\n",
       "      <th>Volume</th>\n",
       "      <th>ma100</th>\n",
       "      <th>ma3</th>\n",
       "      <th>ma5</th>\n",
       "      <th>ma10</th>\n",
       "      <th>ma20</th>\n",
       "      <th>ma50</th>\n",
       "    </tr>\n",
       "    <tr>\n",
       "      <th>Date</th>\n",
       "      <th></th>\n",
       "      <th></th>\n",
       "      <th></th>\n",
       "      <th></th>\n",
       "      <th></th>\n",
       "      <th></th>\n",
       "      <th></th>\n",
       "      <th></th>\n",
       "      <th></th>\n",
       "      <th></th>\n",
       "      <th></th>\n",
       "      <th></th>\n",
       "    </tr>\n",
       "  </thead>\n",
       "  <tbody>\n",
       "    <tr>\n",
       "      <th>2020-05-18</th>\n",
       "      <td>350.420013</td>\n",
       "      <td>356.660004</td>\n",
       "      <td>347.220001</td>\n",
       "      <td>350.010010</td>\n",
       "      <td>350.010010</td>\n",
       "      <td>19410100.0</td>\n",
       "      <td>263.859301</td>\n",
       "      <td>336.953339</td>\n",
       "      <td>326.832007</td>\n",
       "      <td>316.568002</td>\n",
       "      <td>302.409500</td>\n",
       "      <td>270.973600</td>\n",
       "    </tr>\n",
       "    <tr>\n",
       "      <th>2020-05-19</th>\n",
       "      <td>351.609985</td>\n",
       "      <td>363.500000</td>\n",
       "      <td>350.510010</td>\n",
       "      <td>352.220001</td>\n",
       "      <td>352.220001</td>\n",
       "      <td>17933000.0</td>\n",
       "      <td>264.995301</td>\n",
       "      <td>347.286672</td>\n",
       "      <td>334.856006</td>\n",
       "      <td>322.416003</td>\n",
       "      <td>306.545000</td>\n",
       "      <td>273.109200</td>\n",
       "    </tr>\n",
       "    <tr>\n",
       "      <th>2020-05-20</th>\n",
       "      <td>359.640015</td>\n",
       "      <td>361.720001</td>\n",
       "      <td>355.549988</td>\n",
       "      <td>358.799988</td>\n",
       "      <td>358.799988</td>\n",
       "      <td>14688400.0</td>\n",
       "      <td>266.191401</td>\n",
       "      <td>353.676666</td>\n",
       "      <td>344.376001</td>\n",
       "      <td>328.517001</td>\n",
       "      <td>310.177499</td>\n",
       "      <td>275.063600</td>\n",
       "    </tr>\n",
       "    <tr>\n",
       "      <th>2020-05-21</th>\n",
       "      <td>362.059998</td>\n",
       "      <td>362.100006</td>\n",
       "      <td>349.500000</td>\n",
       "      <td>351.010010</td>\n",
       "      <td>351.010010</td>\n",
       "      <td>19026700.0</td>\n",
       "      <td>267.332801</td>\n",
       "      <td>354.010000</td>\n",
       "      <td>350.334003</td>\n",
       "      <td>333.131003</td>\n",
       "      <td>313.527499</td>\n",
       "      <td>277.154401</td>\n",
       "    </tr>\n",
       "    <tr>\n",
       "      <th>2020-05-22</th>\n",
       "      <td>353.010010</td>\n",
       "      <td>363.720001</td>\n",
       "      <td>348.529999</td>\n",
       "      <td>361.049988</td>\n",
       "      <td>361.049988</td>\n",
       "      <td>25969100.0</td>\n",
       "      <td>268.620101</td>\n",
       "      <td>356.953328</td>\n",
       "      <td>354.617999</td>\n",
       "      <td>337.986002</td>\n",
       "      <td>317.100499</td>\n",
       "      <td>280.049200</td>\n",
       "    </tr>\n",
       "  </tbody>\n",
       "</table>\n",
       "</div>"
      ],
      "text/plain": [
       "                  Open  ...        ma50\n",
       "Date                    ...            \n",
       "2020-05-18  350.420013  ...  270.973600\n",
       "2020-05-19  351.609985  ...  273.109200\n",
       "2020-05-20  359.640015  ...  275.063600\n",
       "2020-05-21  362.059998  ...  277.154401\n",
       "2020-05-22  353.010010  ...  280.049200\n",
       "\n",
       "[5 rows x 12 columns]"
      ]
     },
     "execution_count": 83,
     "metadata": {},
     "output_type": "execute_result"
    }
   ],
   "source": [
    "data.tail()"
   ]
  },
  {
   "cell_type": "code",
   "execution_count": 86,
   "metadata": {},
   "outputs": [],
   "source": [
    "def calculate_mas_crossing(days:'list[int]', data=pd.DataFrame)->'pd.DataFrame':\n",
    "    ''' calculate mas crossing signal, e.g. ma3 x ma5, ma3 x ma10 ...\n",
    "        params: (list) @days, e.g. days = [3, 5, 10]\n",
    "        return: (pd.DataFrame) mas crossing signals, e.g. ['3x5']=1, ['3x10']=0 ...\n",
    "    '''\n",
    "    crossing_mas = {} # e.g. crossing_mas[3x5], crossing_mas[3x10] ...\n",
    "    for day in mas:\n",
    "        for cross_day in mas:\n",
    "            if day != cross_day:\n",
    "                crossing_mas[f'{day}x{cross_day}'] = calc.cross_signal(data, day, cross_day)\n",
    "    return crossing_mas"
   ]
  },
  {
   "cell_type": "code",
   "execution_count": 87,
   "metadata": {},
   "outputs": [
    {
     "name": "stderr",
     "output_type": "stream",
     "text": [
      "2020-05-26 09:49:11.588 DEBUG:\t                 Close       Close\n",
      "Date                              \n",
      "2020-05-18  336.953339  326.832007\n",
      "2020-05-19  347.286672  334.856006\n",
      "2020-05-20  353.676666  344.376001\n",
      "2020-05-21  354.010000  350.334003\n",
      "2020-05-22  356.953328  354.617999\n",
      "2020-05-26 09:49:11.599 DEBUG:\t                 Close       Close\n",
      "Date                              \n",
      "2020-05-18  336.953339  316.568002\n",
      "2020-05-19  347.286672  322.416003\n",
      "2020-05-20  353.676666  328.517001\n",
      "2020-05-21  354.010000  333.131003\n",
      "2020-05-22  356.953328  337.986002\n",
      "2020-05-26 09:49:11.609 DEBUG:\t                 Close       Close\n",
      "Date                              \n",
      "2020-05-18  336.953339  302.409500\n",
      "2020-05-19  347.286672  306.545000\n",
      "2020-05-20  353.676666  310.177499\n",
      "2020-05-21  354.010000  313.527499\n",
      "2020-05-22  356.953328  317.100499\n",
      "2020-05-26 09:49:11.618 DEBUG:\t                 Close       Close\n",
      "Date                              \n",
      "2020-05-18  336.953339  270.973600\n",
      "2020-05-19  347.286672  273.109200\n",
      "2020-05-20  353.676666  275.063600\n",
      "2020-05-21  354.010000  277.154401\n",
      "2020-05-22  356.953328  280.049200\n",
      "2020-05-26 09:49:11.630 DEBUG:\t                 Close       Close\n",
      "Date                              \n",
      "2020-05-18  336.953339  263.859301\n",
      "2020-05-19  347.286672  264.995301\n",
      "2020-05-20  353.676666  266.191401\n",
      "2020-05-21  354.010000  267.332801\n",
      "2020-05-22  356.953328  268.620101\n",
      "2020-05-26 09:49:11.647 DEBUG:\t                 Close       Close\n",
      "Date                              \n",
      "2020-05-18  326.832007  336.953339\n",
      "2020-05-19  334.856006  347.286672\n",
      "2020-05-20  344.376001  353.676666\n",
      "2020-05-21  350.334003  354.010000\n",
      "2020-05-22  354.617999  356.953328\n",
      "2020-05-26 09:49:11.664 DEBUG:\t                 Close       Close\n",
      "Date                              \n",
      "2020-05-18  326.832007  316.568002\n",
      "2020-05-19  334.856006  322.416003\n",
      "2020-05-20  344.376001  328.517001\n",
      "2020-05-21  350.334003  333.131003\n",
      "2020-05-22  354.617999  337.986002\n",
      "2020-05-26 09:49:11.678 DEBUG:\t                 Close       Close\n",
      "Date                              \n",
      "2020-05-18  326.832007  302.409500\n",
      "2020-05-19  334.856006  306.545000\n",
      "2020-05-20  344.376001  310.177499\n",
      "2020-05-21  350.334003  313.527499\n",
      "2020-05-22  354.617999  317.100499\n",
      "2020-05-26 09:49:11.689 DEBUG:\t                 Close       Close\n",
      "Date                              \n",
      "2020-05-18  326.832007  270.973600\n",
      "2020-05-19  334.856006  273.109200\n",
      "2020-05-20  344.376001  275.063600\n",
      "2020-05-21  350.334003  277.154401\n",
      "2020-05-22  354.617999  280.049200\n",
      "2020-05-26 09:49:11.702 DEBUG:\t                 Close       Close\n",
      "Date                              \n",
      "2020-05-18  326.832007  263.859301\n",
      "2020-05-19  334.856006  264.995301\n",
      "2020-05-20  344.376001  266.191401\n",
      "2020-05-21  350.334003  267.332801\n",
      "2020-05-22  354.617999  268.620101\n",
      "2020-05-26 09:49:11.713 DEBUG:\t                 Close       Close\n",
      "Date                              \n",
      "2020-05-18  316.568002  336.953339\n",
      "2020-05-19  322.416003  347.286672\n",
      "2020-05-20  328.517001  353.676666\n",
      "2020-05-21  333.131003  354.010000\n",
      "2020-05-22  337.986002  356.953328\n",
      "2020-05-26 09:49:11.722 DEBUG:\t                 Close       Close\n",
      "Date                              \n",
      "2020-05-18  316.568002  326.832007\n",
      "2020-05-19  322.416003  334.856006\n",
      "2020-05-20  328.517001  344.376001\n",
      "2020-05-21  333.131003  350.334003\n",
      "2020-05-22  337.986002  354.617999\n",
      "2020-05-26 09:49:11.731 DEBUG:\t                 Close       Close\n",
      "Date                              \n",
      "2020-05-18  316.568002  302.409500\n",
      "2020-05-19  322.416003  306.545000\n",
      "2020-05-20  328.517001  310.177499\n",
      "2020-05-21  333.131003  313.527499\n",
      "2020-05-22  337.986002  317.100499\n",
      "2020-05-26 09:49:11.741 DEBUG:\t                 Close       Close\n",
      "Date                              \n",
      "2020-05-18  316.568002  270.973600\n",
      "2020-05-19  322.416003  273.109200\n",
      "2020-05-20  328.517001  275.063600\n",
      "2020-05-21  333.131003  277.154401\n",
      "2020-05-22  337.986002  280.049200\n",
      "2020-05-26 09:49:11.751 DEBUG:\t                 Close       Close\n",
      "Date                              \n",
      "2020-05-18  316.568002  263.859301\n",
      "2020-05-19  322.416003  264.995301\n",
      "2020-05-20  328.517001  266.191401\n",
      "2020-05-21  333.131003  267.332801\n",
      "2020-05-22  337.986002  268.620101\n",
      "2020-05-26 09:49:11.762 DEBUG:\t                 Close       Close\n",
      "Date                              \n",
      "2020-05-18  302.409500  336.953339\n",
      "2020-05-19  306.545000  347.286672\n",
      "2020-05-20  310.177499  353.676666\n",
      "2020-05-21  313.527499  354.010000\n",
      "2020-05-22  317.100499  356.953328\n",
      "2020-05-26 09:49:11.772 DEBUG:\t                 Close       Close\n",
      "Date                              \n",
      "2020-05-18  302.409500  326.832007\n",
      "2020-05-19  306.545000  334.856006\n",
      "2020-05-20  310.177499  344.376001\n",
      "2020-05-21  313.527499  350.334003\n",
      "2020-05-22  317.100499  354.617999\n",
      "2020-05-26 09:49:11.780 DEBUG:\t                 Close       Close\n",
      "Date                              \n",
      "2020-05-18  302.409500  316.568002\n",
      "2020-05-19  306.545000  322.416003\n",
      "2020-05-20  310.177499  328.517001\n",
      "2020-05-21  313.527499  333.131003\n",
      "2020-05-22  317.100499  337.986002\n",
      "2020-05-26 09:49:11.790 DEBUG:\t                 Close       Close\n",
      "Date                              \n",
      "2020-05-18  302.409500  270.973600\n",
      "2020-05-19  306.545000  273.109200\n",
      "2020-05-20  310.177499  275.063600\n",
      "2020-05-21  313.527499  277.154401\n",
      "2020-05-22  317.100499  280.049200\n",
      "2020-05-26 09:49:11.799 DEBUG:\t                 Close       Close\n",
      "Date                              \n",
      "2020-05-18  302.409500  263.859301\n",
      "2020-05-19  306.545000  264.995301\n",
      "2020-05-20  310.177499  266.191401\n",
      "2020-05-21  313.527499  267.332801\n",
      "2020-05-22  317.100499  268.620101\n",
      "2020-05-26 09:49:11.807 DEBUG:\t                 Close       Close\n",
      "Date                              \n",
      "2020-05-18  270.973600  336.953339\n",
      "2020-05-19  273.109200  347.286672\n",
      "2020-05-20  275.063600  353.676666\n",
      "2020-05-21  277.154401  354.010000\n",
      "2020-05-22  280.049200  356.953328\n",
      "2020-05-26 09:49:11.815 DEBUG:\t                 Close       Close\n",
      "Date                              \n",
      "2020-05-18  270.973600  326.832007\n",
      "2020-05-19  273.109200  334.856006\n",
      "2020-05-20  275.063600  344.376001\n",
      "2020-05-21  277.154401  350.334003\n",
      "2020-05-22  280.049200  354.617999\n",
      "2020-05-26 09:49:11.825 DEBUG:\t                 Close       Close\n",
      "Date                              \n",
      "2020-05-18  270.973600  316.568002\n",
      "2020-05-19  273.109200  322.416003\n",
      "2020-05-20  275.063600  328.517001\n",
      "2020-05-21  277.154401  333.131003\n",
      "2020-05-22  280.049200  337.986002\n",
      "2020-05-26 09:49:11.833 DEBUG:\t                 Close       Close\n",
      "Date                              \n",
      "2020-05-18  270.973600  302.409500\n",
      "2020-05-19  273.109200  306.545000\n",
      "2020-05-20  275.063600  310.177499\n",
      "2020-05-21  277.154401  313.527499\n",
      "2020-05-22  280.049200  317.100499\n",
      "2020-05-26 09:49:11.842 DEBUG:\t                 Close       Close\n",
      "Date                              \n",
      "2020-05-18  270.973600  263.859301\n",
      "2020-05-19  273.109200  264.995301\n",
      "2020-05-20  275.063600  266.191401\n",
      "2020-05-21  277.154401  267.332801\n",
      "2020-05-22  280.049200  268.620101\n",
      "2020-05-26 09:49:11.852 DEBUG:\t                 Close       Close\n",
      "Date                              \n",
      "2020-05-18  263.859301  336.953339\n",
      "2020-05-19  264.995301  347.286672\n",
      "2020-05-20  266.191401  353.676666\n",
      "2020-05-21  267.332801  354.010000\n",
      "2020-05-22  268.620101  356.953328\n",
      "2020-05-26 09:49:11.860 DEBUG:\t                 Close       Close\n",
      "Date                              \n",
      "2020-05-18  263.859301  326.832007\n",
      "2020-05-19  264.995301  334.856006\n",
      "2020-05-20  266.191401  344.376001\n",
      "2020-05-21  267.332801  350.334003\n",
      "2020-05-22  268.620101  354.617999\n",
      "2020-05-26 09:49:11.870 DEBUG:\t                 Close       Close\n",
      "Date                              \n",
      "2020-05-18  263.859301  316.568002\n",
      "2020-05-19  264.995301  322.416003\n",
      "2020-05-20  266.191401  328.517001\n",
      "2020-05-21  267.332801  333.131003\n",
      "2020-05-22  268.620101  337.986002\n",
      "2020-05-26 09:49:11.878 DEBUG:\t                 Close       Close\n",
      "Date                              \n",
      "2020-05-18  263.859301  302.409500\n",
      "2020-05-19  264.995301  306.545000\n",
      "2020-05-20  266.191401  310.177499\n",
      "2020-05-21  267.332801  313.527499\n",
      "2020-05-22  268.620101  317.100499\n",
      "2020-05-26 09:49:11.888 DEBUG:\t                 Close       Close\n",
      "Date                              \n",
      "2020-05-18  263.859301  270.973600\n",
      "2020-05-19  264.995301  273.109200\n",
      "2020-05-20  266.191401  275.063600\n",
      "2020-05-21  267.332801  277.154401\n",
      "2020-05-22  268.620101  280.049200\n"
     ]
    }
   ],
   "source": [
    "crossing_mas = calculate_mas_crossing(mas=mas, data=data)"
   ]
  },
  {
   "cell_type": "code",
   "execution_count": 88,
   "metadata": {},
   "outputs": [
    {
     "data": {
      "text/plain": [
       "dict"
      ]
     },
     "execution_count": 88,
     "metadata": {},
     "output_type": "execute_result"
    }
   ],
   "source": [
    "type(crossing_mas)"
   ]
  },
  {
   "cell_type": "code",
   "execution_count": 89,
   "metadata": {},
   "outputs": [
    {
     "data": {
      "text/plain": [
       "30"
      ]
     },
     "execution_count": 89,
     "metadata": {},
     "output_type": "execute_result"
    }
   ],
   "source": [
    "len(crossing_mas)"
   ]
  },
  {
   "cell_type": "code",
   "execution_count": 90,
   "metadata": {},
   "outputs": [
    {
     "name": "stdout",
     "output_type": "stream",
     "text": [
      "3x5\n",
      "3x10\n",
      "3x20\n",
      "3x50\n",
      "3x100\n",
      "5x3\n",
      "5x10\n",
      "5x20\n",
      "5x50\n",
      "5x100\n",
      "10x3\n",
      "10x5\n",
      "10x20\n",
      "10x50\n",
      "10x100\n",
      "20x3\n",
      "20x5\n",
      "20x10\n",
      "20x50\n",
      "20x100\n",
      "50x3\n",
      "50x5\n",
      "50x10\n",
      "50x20\n",
      "50x100\n",
      "100x3\n",
      "100x5\n",
      "100x10\n",
      "100x20\n",
      "100x50\n"
     ]
    }
   ],
   "source": [
    "for k in crossing_mas:\n",
    "    print(k)"
   ]
  },
  {
   "cell_type": "code",
   "execution_count": 91,
   "metadata": {},
   "outputs": [
    {
     "data": {
      "text/plain": [
       "0"
      ]
     },
     "execution_count": 91,
     "metadata": {},
     "output_type": "execute_result"
    }
   ],
   "source": [
    "crossing_mas[k]"
   ]
  },
  {
   "cell_type": "code",
   "execution_count": null,
   "metadata": {},
   "outputs": [],
   "source": []
  }
 ],
 "metadata": {
  "kernelspec": {
   "display_name": "Python 3",
   "language": "python",
   "name": "python3"
  },
  "language_info": {
   "codemirror_mode": {
    "name": "ipython",
    "version": 3
   },
   "file_extension": ".py",
   "mimetype": "text/x-python",
   "name": "python",
   "nbconvert_exporter": "python",
   "pygments_lexer": "ipython3",
   "version": "3.6.5"
  }
 },
 "nbformat": 4,
 "nbformat_minor": 2
}
