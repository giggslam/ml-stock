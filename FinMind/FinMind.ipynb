{
 "cells": [
  {
   "cell_type": "markdown",
   "metadata": {},
   "source": [
    "2019-04-07\n",
    "\n",
    "# Get US Stock Price"
   ]
  },
  {
   "cell_type": "code",
   "execution_count": 1,
   "metadata": {},
   "outputs": [],
   "source": [
    "from FinMind.Data import Load\n",
    "import datetime"
   ]
  },
  {
   "cell_type": "code",
   "execution_count": 2,
   "metadata": {},
   "outputs": [],
   "source": [
    "#date = str( datetime.datetime.now().date())\n",
    "date = str( datetime.datetime.now().date() - datetime.timedelta(30) )\n",
    "date2 = str( datetime.datetime.now().date() - datetime.timedelta(200) )\n",
    "date3 = str( datetime.datetime.now().date() - datetime.timedelta(400) )\n",
    "today = str( datetime.datetime.now().date() )"
   ]
  },
  {
   "cell_type": "code",
   "execution_count": 3,
   "metadata": {},
   "outputs": [
    {
     "name": "stdout",
     "output_type": "stream",
     "text": [
      "load USStockPrice NVDA \n",
      "    Open   High    Low  Close  Adj_Close    Volume        date stock_id\n",
      "0  18.51  18.62  18.11  18.49    17.0957  20005100  2010-01-04     NVDA\n",
      "1  18.42  18.96  18.42  18.76    17.3453  18216200  2010-01-05     NVDA\n",
      "2  18.75  18.92  18.57  18.88    17.4563  16229200  2010-01-06     NVDA\n",
      "3  18.78  18.86  18.37  18.51    17.1142  13694800  2010-01-07     NVDA\n",
      "4  18.36  18.68  18.25  18.55    17.1511  11954200  2010-01-08     NVDA\n"
     ]
    }
   ],
   "source": [
    "stock_id = 'NVDA'\n",
    "date_from = '2010-01-01'\n",
    "\n",
    "print('load USStockPrice {} '.format(stock_id))\n",
    "USStockPrice = Load.FinData(\n",
    "        dataset = 'USStockPrice',\n",
    "        select = stock_id,\n",
    "        date = date_from)\n",
    "print( USStockPrice[:5] )"
   ]
  },
  {
   "cell_type": "markdown",
   "metadata": {},
   "source": [
    "## 預測 明天 股價\n",
    "### GRU & LSTM model "
   ]
  },
  {
   "cell_type": "code",
   "execution_count": 4,
   "metadata": {},
   "outputs": [
    {
     "name": "stderr",
     "output_type": "stream",
     "text": [
      "Using TensorFlow backend.\n"
     ]
    }
   ],
   "source": [
    "from FinMind.Data import Load\n",
    "import numpy as np \n",
    "import pandas as pd\n",
    "from keras.layers.core import Dense, Dropout\n",
    "from keras.layers import LSTM , GRU\n",
    "from keras.models import Sequential\n",
    "from sklearn.preprocessing import MinMaxScaler\n",
    "import matplotlib.pyplot as plt\n",
    "import math\n",
    "from keras.optimizers import Adam "
   ]
  },
  {
   "cell_type": "code",
   "execution_count": 5,
   "metadata": {},
   "outputs": [
    {
     "name": "stdout",
     "output_type": "stream",
     "text": [
      "input data\n"
     ]
    }
   ],
   "source": [
    "USStockInfo = Load.FinData(dataset = 'USStockInfo')\n",
    "stock_id = 'NVDA'\n",
    "date_from = '2010-01-01'\n",
    "\n",
    "print('input data')\n",
    "data = Load.FinData(\n",
    "        dataset = 'USStockPrice',\n",
    "        select = stock_id,\n",
    "        date = date_from)"
   ]
  },
  {
   "cell_type": "code",
   "execution_count": 6,
   "metadata": {},
   "outputs": [
    {
     "name": "stdout",
     "output_type": "stream",
     "text": [
      "select close price\n"
     ]
    }
   ],
   "source": [
    "#colname = ['date', 'open', 'high', 'low', 'close', 'volume']\n",
    "#data = data[colname]\n",
    "print('select close price')\n",
    "date = [ str(d) for d in data['date'] ]\n",
    "stock_price = data['Close'].values.astype('float32')\n",
    "stock_price = stock_price.reshape(len(stock_price), 1)"
   ]
  },
  {
   "cell_type": "code",
   "execution_count": 7,
   "metadata": {},
   "outputs": [
    {
     "name": "stdout",
     "output_type": "stream",
     "text": [
      " 畫圖 \n"
     ]
    },
    {
     "data": {
      "image/png": "[encoded data removed]",
      "text/plain": [
       "<Figure size 432x288 with 1 Axes>"
      ]
     },
     "metadata": {
      "needs_background": "light"
     },
     "output_type": "display_data"
    }
   ],
   "source": [
    "print(' 畫圖 ')\n",
    "plt.plot(stock_price)\n",
    "plt.show()"
   ]
  },
  {
   "cell_type": "code",
   "execution_count": 8,
   "metadata": {},
   "outputs": [
    {
     "name": "stdout",
     "output_type": "stream",
     "text": [
      " 取 80% data 當作 training data, 20% data 當作 testing data 做模型驗證 \n"
     ]
    }
   ],
   "source": [
    "print(' 取 80% data 當作 training data, 20% data 當作 testing data 做模型驗證 ')\n",
    "train_size = int(len(stock_price) * 0.8)\n",
    "test_size = len(stock_price) - train_size\n",
    "test_size = train_size + int(test_size/2)\n",
    "valid_size = test_size\n",
    "\n",
    "train = stock_price[:train_size,:]\n",
    "test = stock_price[train_size:test_size,:]\n",
    "valid = stock_price[valid_size:,:]\n",
    "\n",
    "train_date = date[:train_size]\n",
    "test_date = date[train_size:test_size]\n",
    "valid_date = date[valid_size:]"
   ]
  },
  {
   "cell_type": "code",
   "execution_count": 9,
   "metadata": {},
   "outputs": [
    {
     "name": "stdout",
     "output_type": "stream",
     "text": [
      " 歸一化 \n"
     ]
    }
   ],
   "source": [
    "print(' 歸一化 ')\n",
    "scaler = MinMaxScaler(feature_range=(0, 1))\n",
    "train = scaler.fit_transform(train)\n",
    "test = scaler.transform(test)"
   ]
  },
  {
   "cell_type": "code",
   "execution_count": 10,
   "metadata": {},
   "outputs": [
    {
     "name": "stdout",
     "output_type": "stream",
     "text": [
      "切 data，拿前五天的股價，預測未來1天的股價，先做個 demo\n",
      "(1858, 5) (1858,) (227, 5) (227,)\n",
      "轉換成 LSTM 建模所需 data 的型態\n"
     ]
    }
   ],
   "source": [
    "print('切 data，拿前五天的股價，預測未來1天的股價，先做個 demo')\n",
    "def process_data(data , n_features,future_days):\n",
    "    dataX, dataY = [], []\n",
    "    for i in range(len(data)-n_features-future_days):\n",
    "        a = data[i:(i+n_features), 0]\n",
    "        dataX.append(a)\n",
    "        dataY.append(data[i + n_features-1+future_days, 0])\n",
    "    return np.array(dataX), np.array(dataY)\n",
    "\n",
    "# reshape into X=t and Y=t+5\n",
    "n_features = 5\n",
    "future_days = 1\n",
    "\n",
    "trainX, trainY = process_data(train, n_features,future_days)\n",
    "testX, testY = process_data(test, n_features,future_days)\n",
    "print(trainX.shape , trainY.shape , testX.shape , testY.shape)\n",
    "\n",
    "# lstm need input to have 3 dimensions\n",
    "print('轉換成 LSTM 建模所需 data 的型態')\n",
    "trainX = np.reshape(trainX, (trainX.shape[0], 1, trainX.shape[1]))\n",
    "testX = np.reshape(testX, (testX.shape[0], 1, testX.shape[1]))"
   ]
  },
  {
   "cell_type": "code",
   "execution_count": 11,
   "metadata": {},
   "outputs": [
    {
     "name": "stdout",
     "output_type": "stream",
     "text": [
      "設定參數\n",
      "建立 DL 模型，使用 RNN 常見的 GRU and LSTM\n",
      "WARNING:tensorflow:From /Users/ryan/anaconda3/envs/py36-pytext/lib/python3.7/site-packages/tensorflow/python/framework/op_def_library.py:263: colocate_with (from tensorflow.python.framework.ops) is deprecated and will be removed in a future version.\n",
      "Instructions for updating:\n",
      "Colocations handled automatically by placer.\n",
      "WARNING:tensorflow:From /Users/ryan/anaconda3/envs/py36-pytext/lib/python3.7/site-packages/keras/backend/tensorflow_backend.py:3445: calling dropout (from tensorflow.python.ops.nn_ops) with keep_prob is deprecated and will be removed in a future version.\n",
      "Instructions for updating:\n",
      "Please use `rate` instead of `keep_prob`. Rate should be set to `rate = 1 - keep_prob`.\n"
     ]
    },
    {
     "name": "stderr",
     "output_type": "stream",
     "text": [
      "/Users/ryan/anaconda3/envs/py36-pytext/lib/python3.7/site-packages/keras/callbacks.py:1065: UserWarning: `epsilon` argument is deprecated and will be removed, use `min_delta` instead.\n",
      "  warnings.warn('`epsilon` argument is deprecated and '\n"
     ]
    },
    {
     "name": "stdout",
     "output_type": "stream",
     "text": [
      "_________________________________________________________________\n",
      "Layer (type)                 Output Shape              Param #   \n",
      "=================================================================\n",
      "gru_1 (GRU)                  (None, 1, 256)            201216    \n",
      "_________________________________________________________________\n",
      "dropout_1 (Dropout)          (None, 1, 256)            0         \n",
      "_________________________________________________________________\n",
      "lstm_1 (LSTM)                (None, 256)               525312    \n",
      "_________________________________________________________________\n",
      "dropout_2 (Dropout)          (None, 256)               0         \n",
      "_________________________________________________________________\n",
      "dense_1 (Dense)              (None, 64)                16448     \n",
      "_________________________________________________________________\n",
      "dense_2 (Dense)              (None, 1)                 65        \n",
      "=================================================================\n",
      "Total params: 743,041\n",
      "Trainable params: 743,041\n",
      "Non-trainable params: 0\n",
      "_________________________________________________________________\n",
      "training\n",
      "WARNING:tensorflow:From /Users/ryan/anaconda3/envs/py36-pytext/lib/python3.7/site-packages/tensorflow/python/ops/math_ops.py:3066: to_int32 (from tensorflow.python.ops.math_ops) is deprecated and will be removed in a future version.\n",
      "Instructions for updating:\n",
      "Use tf.cast instead.\n",
      "Train on 1858 samples, validate on 227 samples\n",
      "Epoch 1/5\n",
      "1858/1858 [==============================] - 2s 834us/step - loss: 0.0299 - mean_squared_error: 0.0299 - val_loss: 0.3336 - val_mean_squared_error: 0.3336\n",
      "\n",
      "Epoch 00001: val_loss improved from -inf to 0.33361, saving model to stock_weights.hdf5\n",
      "Epoch 2/5\n",
      "1858/1858 [==============================] - 0s 116us/step - loss: 0.0060 - mean_squared_error: 0.0060 - val_loss: 0.0066 - val_mean_squared_error: 0.0066\n",
      "\n",
      "Epoch 00002: val_loss did not improve from 0.33361\n",
      "Epoch 3/5\n",
      "1858/1858 [==============================] - 0s 112us/step - loss: 7.3210e-04 - mean_squared_error: 7.3210e-04 - val_loss: 0.0390 - val_mean_squared_error: 0.0390\n",
      "\n",
      "Epoch 00003: val_loss did not improve from 0.33361\n",
      "\n",
      "Epoch 00003: ReduceLROnPlateau reducing learning rate to 5.0000002374872565e-05.\n",
      "Epoch 4/5\n",
      "1858/1858 [==============================] - 0s 108us/step - loss: 6.2169e-04 - mean_squared_error: 6.2169e-04 - val_loss: 0.0324 - val_mean_squared_error: 0.0324\n",
      "\n",
      "Epoch 00004: val_loss did not improve from 0.33361\n",
      "\n",
      "Epoch 00004: ReduceLROnPlateau reducing learning rate to 5.000000237487257e-06.\n",
      "Epoch 5/5\n",
      "1858/1858 [==============================] - 0s 124us/step - loss: 5.5066e-04 - mean_squared_error: 5.5066e-04 - val_loss: 0.0306 - val_mean_squared_error: 0.0306\n",
      "\n",
      "Epoch 00005: val_loss did not improve from 0.33361\n",
      "\n",
      "Epoch 00005: ReduceLROnPlateau reducing learning rate to 5.000000328436726e-07.\n",
      " save weight \n"
     ]
    }
   ],
   "source": [
    "'''  set up DL model '''\n",
    "print('設定參數')\n",
    "filepath=\"stock_weights.hdf5\"\n",
    "from keras.callbacks import ReduceLROnPlateau , ModelCheckpoint\n",
    "lr_reduce = ReduceLROnPlateau(monitor='val_loss', factor=0.1, epsilon=0.0001, patience=1, verbose=1)\n",
    "checkpoint = ModelCheckpoint(filepath, monitor='val_loss', verbose=1, save_best_only=True, mode='max')\n",
    "\n",
    "print('建立 DL 模型，使用 RNN 常見的 GRU and LSTM')\n",
    "model = Sequential()\n",
    "model.add(GRU(256 , input_shape = (1 , n_features) , return_sequences=True))\n",
    "model.add(Dropout(0.2))\n",
    "model.add(LSTM(256))\n",
    "model.add(Dropout(0.2))\n",
    "model.add(Dense(64 ,  activation = 'relu'))\n",
    "model.add(Dense(1))\n",
    "model.summary()\n",
    "\n",
    "#model.load_weights('/home/linsam/job/stock_weight.h5')\n",
    "model.compile(loss='mean_squared_error', optimizer=Adam(lr = 0.0005) , metrics = ['mean_squared_error'])\n",
    "print('training')\n",
    "history = model.fit(trainX, trainY, epochs=5 , batch_size = 128 , \n",
    "          callbacks = [checkpoint , lr_reduce] , validation_data = (testX,testY))\n",
    "print(' save weight ')\n",
    "model.save_weights('stock_weight.h5')"
   ]
  },
  {
   "cell_type": "code",
   "execution_count": 12,
   "metadata": {},
   "outputs": [
    {
     "name": "stdout",
     "output_type": "stream",
     "text": [
      "計算 error\n",
      "Train Score: 0.00035 MSE (0.02 RMSE)\n",
      "Test Score: 0.03056 MSE (0.17 RMSE)\n"
     ]
    }
   ],
   "source": [
    "print('計算 error')\n",
    "def model_score(model, X_train, y_train, X_test, y_test):\n",
    "    trainScore = model.evaluate(X_train, y_train, verbose=0)\n",
    "    print('Train Score: %.5f MSE (%.2f RMSE)' % (trainScore[0], math.sqrt(trainScore[0])))\n",
    "    testScore = model.evaluate(X_test, y_test, verbose=0)\n",
    "    print('Test Score: %.5f MSE (%.2f RMSE)' % (testScore[0], math.sqrt(testScore[0])))\n",
    "    return trainScore[0], testScore[0]\n",
    "\n",
    "tem = model_score(model, trainX, trainY , testX, testY)"
   ]
  },
  {
   "cell_type": "code",
   "execution_count": 13,
   "metadata": {},
   "outputs": [
    {
     "name": "stdout",
     "output_type": "stream",
     "text": [
      "\n",
      " Actual Stock Prices\n",
      "[[158.81294]\n",
      " [159.9662 ]\n",
      " [163.28946]\n",
      " [165.41628]\n",
      " [165.55989]\n",
      " [165.94478]\n",
      " [167.14473]\n",
      " [165.24684]\n",
      " [165.71529]\n",
      " [167.31792]]\n",
      "\n",
      " Predicted Stock Prices \n",
      "[[149.12]\n",
      " [159.94]\n",
      " [149.6 ]\n",
      " [149.97]\n",
      " [151.4 ]\n",
      " [151.72]\n",
      " [152.37]\n",
      " [151.62]\n",
      " [157.32]\n",
      " [157.09]]\n",
      "畫圖\n",
      "\n",
      "Red - Predicted Stock Prices  ,  Blue - Actual Stock Prices\n"
     ]
    },
    {
     "data": {
      "image/png": "[encoded data removed]",
      "text/plain": [
       "<Figure size 1080x504 with 1 Axes>"
      ]
     },
     "metadata": {
      "needs_background": "light"
     },
     "output_type": "display_data"
    }
   ],
   "source": [
    "pred = model.predict(testX)\n",
    "pred = scaler.inverse_transform(pred)\n",
    "print('\\n Actual Stock Prices')\n",
    "print( pred[:10] )\n",
    "\n",
    "testY2 = testY.reshape(testY.shape[0] , 1)\n",
    "testY2 = scaler.inverse_transform(testY2)\n",
    "print('\\n Predicted Stock Prices ')\n",
    "print( testY2[:10] )\n",
    "\n",
    "print('畫圖')\n",
    "print(\"\\nRed - Predicted Stock Prices  ,  Blue - Actual Stock Prices\")\n",
    "plt.rcParams[\"figure.figsize\"] = (15,7)\n",
    "plt.plot(testY2 , 'b')\n",
    "plt.plot(pred , 'r')\n",
    "plt.xlabel('Time')\n",
    "plt.ylabel('Stock Prices')\n",
    "plt.title('Red - Predicted Stock Prices  ,  Blue - Actual Stock Prices')\n",
    "plt.grid(True)\n",
    "plt.show()\n"
   ]
  },
  {
   "cell_type": "code",
   "execution_count": null,
   "metadata": {},
   "outputs": [],
   "source": []
  }
 ],
 "metadata": {
  "kernelspec": {
   "display_name": "Python 3",
   "language": "python",
   "name": "python3"
  },
  "language_info": {
   "codemirror_mode": {
    "name": "ipython",
    "version": 3
   },
   "file_extension": ".py",
   "mimetype": "text/x-python",
   "name": "python",
   "nbconvert_exporter": "python",
   "pygments_lexer": "ipython3",
   "version": "3.7.2"
  }
 },
 "nbformat": 4,
 "nbformat_minor": 2
}
